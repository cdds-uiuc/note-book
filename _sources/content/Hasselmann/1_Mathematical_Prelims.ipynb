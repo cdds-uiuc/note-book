{
 "cells": [
  {
   "cell_type": "markdown",
   "id": "325cbbb5-9bc1-4d25-a72a-f9053ab581c5",
   "metadata": {
    "editable": true,
    "slideshow": {
     "slide_type": ""
    },
    "tags": []
   },
   "source": [
    "# 1. Mathematical Preliminaries"
   ]
  },
  {
   "cell_type": "markdown",
   "id": "ea754858-fa90-4d54-9b11-d13387cc3aa6",
   "metadata": {
    "editable": true,
    "jp-MarkdownHeadingCollapsed": true,
    "slideshow": {
     "slide_type": ""
    },
    "tags": []
   },
   "source": [
    "## Fourier Transforms \n",
    "\n",
    "* Fourier Transform, and it's inverse, which can be written either in\n",
    "terms of frequency $f$ or angular freuency $\\omega.$ \n",
    "\n",
    "$$ \\mathscr{F}\\left\\{ X(t)\\right\\} =\\int_{-\\infty}^{+\\infty}X(t)e^{-2\\pi ift}dt=\\tilde{X}\\left(f\\right)$$ \n",
    "\n",
    "$$\n",
    "\\mathscr{F}\\left\\{ X(t)\\right\\} =\\int_{-\\infty}^{+\\infty}X(t)e^{-i\\omega t}dt=\\tilde{X}\\left(\\omega\\right)\n",
    "$$\n",
    "\n",
    "$$\n",
    "\\mathscr{F}^{-1}\\left\\{ \\tilde{X}\\left(f\\right)\\right\\} =\\int_{-\\infty}^{+\\infty}\\tilde{X}\\left(f\\right)e^{2\\pi ift}df=X\\left(t\\right)\n",
    "$$\n",
    "\n",
    "$$\n",
    "\\mathscr{F}^{-1}\\left\\{ \\tilde{X}\\left(\\omega\\right)\\right\\} =\\frac{1}{2\\pi}\\int_{-\\infty}^{+\\infty}\\tilde{X}\\left(\\omega\\right)e^{i\\omega t}d\\omega=X\\left(t\\right)\n",
    "$$\n",
    "\n",
    "* Unless otherwise noted, we will use $X$ to denote time-domain functions\n",
    "$X(t)$ and $\\tilde{X}$ to denote frequency domain functions, $\\tilde{X}\\left(f\\right)$\n",
    "or $\\tilde{X}\\left(\\omega\\right)$. We will use the following notation\n",
    "two denote two quantities are related through a Fourier/Invers Fourier\n",
    "transformation:\n",
    "\n",
    "$$\n",
    "X(t)\\overset{\\mathscr{F}}{\\longleftrightarrow}\\tilde{X}(f)\n",
    "$$\n",
    "\n",
    "* **Nyquist frequency:** for discrete time-series evaluated at\n",
    "discrete time-steps $t_{i}$ separated by $\\Delta t=t_{i+1}-t_{i}$\n",
    "the Fourier Transform can only be evaluated at frequencies up to the\n",
    "sampling frequency, also called the Nyquist frequency \n",
    "\n",
    "$$\n",
    "f_{N}=\\frac{1}{2\\Delta t}.\n",
    "$$\n",
    "\n",
    "It is not possible to estimate energy at freuencies higher than the\n",
    "Nyquist frequncy without more finely resolved data. "
   ]
  },
  {
   "cell_type": "markdown",
   "id": "1abc162d-3dce-4a84-8bbc-64e975cb96c7",
   "metadata": {
    "editable": true,
    "slideshow": {
     "slide_type": ""
    },
    "tags": []
   },
   "source": [
    "## Spectral Density \\& Covariance\n",
    "\n",
    "Here we will refresh some definitions and properties of Fourier Analysis.\n",
    "The math we use will not be rigurous, but it will be, hopefully, consistent. \n",
    "\n",
    "Wikipedia has some decent coverage of spectral analysis.\n",
    "\n",
    "* The **cross power spectral density** of two variables is:\n",
    "\n",
    "$$\n",
    "S_{XY}\\left(\\omega\\right)=\\left\\langle \\tilde{X}\\left(\\omega\\right)\\tilde{Y}^{*}\\left(\\omega\\right)\\right\\rangle =\\lim_{T\\rightarrow\\infty}\\frac{1}{T}E\\left[\\tilde{X}\\left(\\omega\\right)\\tilde{Y}^{*}\\left(\\omega\\right)\\right]\n",
    "$$\n",
    "\n",
    "where $T$ is the total length of the signal and $*$ denotes a complex\n",
    "conjugate. In practice, we won't have to deal with the limit or the\n",
    "expectation, as everything will eventually be written in terms of\n",
    "the power spectral density $\\tilde{s}^{2}$ of some noise forcing\n",
    "$\\eta(t)$, where $\\tilde{s}_{\\eta}^{2}\\left(\\omega\\right)=\\left\\langle \\tilde{\\eta}\\left(\\omega\\right)\\tilde{\\eta}^{*}\\left(\\omega\\right)\\right\\rangle $.\n",
    "As long as we are careful to properly scale the spectrum of the noise,\n",
    "the only other thing we need is the fact that the bracket notation\n",
    "$\\left\\langle \\cdot\\right\\rangle $ is linear. \n",
    "\n",
    "* The spectral density described above is what we will call the **process**\n",
    "spectral density. I.e. this is a parameter of the process. You can\n",
    "also think of it as the *true*spectral density of the underlying\n",
    "process that generated the data. When working with real data, we will\n",
    "only have access to finite samples of the processes $X(t)$\n",
    "and  $Y(t)$ defined over a finite interval $T$. Thus, all\n",
    "we can do is get an *estimate* of the spectrum, which we will\n",
    "call the **sample** spectrum. For now we won't worry about how\n",
    "to compute these estimates, and just use a library that estiamtes\n",
    "these quantities for us. \n",
    "\n",
    "* The **power spectral density (PSD}**, or the auto-spectrum of\n",
    "a stochastic process $X$ is: \n",
    "\n",
    "$$\n",
    "P_{X}\\left(f\\right)=S_{XX}\\left(f\\right)=\\left\\langle \\tilde{X}\\left(f\\right)\\tilde{X}^{*}\\left(f\\right)\\right\\rangle =\\lim_{T\\rightarrow\\infty}\\frac{1}{T}E\\left[\\tilde{X}\\left(f\\right)\\tilde{Y}^{*}\\left(f\\right)\\right]\n",
    "$$\n",
    "\n",
    "* The **cross-covariance** function. At least for now, we will\n",
    "be dealing with anomalies from a mean, so we can assume $E(X(t))=E(Y(t))=0$.\n",
    "If ths is the case, the cross-covariance becomes equal to the cross-correlation\n",
    "function, and they both become\n",
    "\n",
    "$$\n",
    "C_{XY}(\\tau)=\\text{Cov}\\left(X(t),Y(t+\\tau)\\right)=E\\left[X(t)Y(t+\\tau)\\right]=\\lim_{T\\rightarrow\\infty}\\frac{1}{T}\\int_{-\\infty}^{\\infty}X(t)Y(t+\\tau)dt\n",
    "$$\n",
    "\n",
    "* **White noise:** process is an uncorrelated process, i.e. the\n",
    "covariance is only non-zero at zero lag. If $\\delta_{\\tau}$ is a\n",
    "delta-function centered on zero, then:\n",
    "\n",
    "$$\n",
    "C_{\\eta\\eta}\\left(\\tau\\right)=E\\left[X(t)Y(t+\\tau)\\right]=\\delta_{\\tau}\\sigma^{2}\n",
    "$$\n"
   ]
  },
  {
   "cell_type": "markdown",
   "id": "5856163b-6b85-46a1-9bf2-ba5612eb7bd5",
   "metadata": {
    "editable": true,
    "slideshow": {
     "slide_type": ""
    },
    "tags": []
   },
   "source": [
    "## Useful Properties and Theorems\n",
    "\n",
    "In practice, our derivations will make use of the following properties\n",
    "of the Fourier Transform, Spectral density, and covariance functions\n",
    "\n",
    "* Fourier Transform of a time-derivative\n",
    "\n",
    "$$\n",
    "\\boxed{\\mathscr{F}\\left\\{ \\frac{dx(t)}{dt}\\right\\} =i\\omega\\tilde{X}(\\omega)}\n",
    "$$\n",
    "\n",
    "* Linearity of cross spectral density:\n",
    "\n",
    "$$\n",
    "\\boxed{\\left\\langle a\\left(\\tilde{X}+\\tilde{Y}\\right)\\tilde{Z}\\right\\rangle =a\\left\\langle \\tilde{X}\\tilde{Z}\\right\\rangle +a\\left\\langle \\tilde{Y}\\tilde{Z}\\right\\rangle }\n",
    "$$\n",
    "\n",
    "* Expected auto-cross-spectrum (i.e. power spectrum) of a white noise\n",
    "process is a constant. In fact, this could be an alternative definition\n",
    "of ``white noise'', with the $\\delta$-function correlaton being\n",
    "a consequence. If $\\eta(t)$ is a white-noise process:\n",
    "\n",
    "$$\n",
    "\\boxed{S_{\\eta\\eta}\\left(\\omega\\right)=\\left\\langle \\tilde{\\eta}(\\omega)\\cdot\\tilde{\\eta}^{*}(\\omega)\\right\\rangle =\\tilde{s}_{\\eta}^{2}}\n",
    "$$\n",
    "\n",
    "* Expected cross-spectrum of two independent processes is zero\n",
    "\n",
    "$$\n",
    "\\boxed{S_{XY}\\left(\\omega\\right)=\\left\\langle \\tilde{X}(\\omega)\\cdot\\tilde{Y}(\\omega)\\right\\rangle =0}\n",
    "$$\n",
    "\n",
    "* **Wiener-Khinchin theorem** linking lagged-covariance with cross-spectrum:\n",
    "\n",
    "$$\n",
    "\\boxed{C_{XY}(\\tau)\\overset{\\mathscr{F}}{\\longleftrightarrow}S_{XY}(\\omega)}\n",
    "$$\n",
    "\n",
    "* **Parseval's Theorem** is equivalent to the Wiener-Khinchin theorem\n",
    "at $\\tau=0$, where $C_{XX}\\left(0\\right)=var\\left(X\\right)$. Still,\n",
    "it is important enough that it is worth discussing it on its own:\n",
    "\n",
    "$$\n",
    "\\boxed{\\sigma_{X}^{2}=var(X)=\\int_{-\\infty}^{\\infty}S_{XX}\\left(f\\right)df}\n",
    "$$\n"
   ]
  }
 ],
 "metadata": {
  "kernelspec": {
   "display_name": "Python 3 (ipykernel)",
   "language": "python",
   "name": "python3"
  },
  "language_info": {
   "codemirror_mode": {
    "name": "ipython",
    "version": 3
   },
   "file_extension": ".py",
   "mimetype": "text/x-python",
   "name": "python",
   "nbconvert_exporter": "python",
   "pygments_lexer": "ipython3",
   "version": "3.12.1"
  }
 },
 "nbformat": 4,
 "nbformat_minor": 5
}
