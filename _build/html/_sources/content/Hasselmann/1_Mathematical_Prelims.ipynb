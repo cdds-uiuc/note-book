{
 "cells": [
  {
   "cell_type": "markdown",
   "id": "325cbbb5-9bc1-4d25-a72a-f9053ab581c5",
   "metadata": {
    "editable": true,
    "slideshow": {
     "slide_type": ""
    },
    "tags": []
   },
   "source": [
    "# 1. Mathematical Preliminaries"
   ]
  },
  {
   "cell_type": "markdown",
   "id": "ea754858-fa90-4d54-9b11-d13387cc3aa6",
   "metadata": {
    "editable": true,
    "jp-MarkdownHeadingCollapsed": true,
    "slideshow": {
     "slide_type": ""
    },
    "tags": []
   },
   "source": [
    "Here we will refresh some definitions and properties of Fourier Analysis. The math we use will not be rigurous, but it will be, hopefully, consistent. \n",
    "\n",
    "## Definitions: Fourier Transforms \n",
    "\n",
    "* **The Fourier transform**, and its inverse can be written either in\n",
    "terms of frequency $f$ or angular freuency $\\omega=2\\pi f$. Their definitions are: \n",
    "\n",
    "$$ \\mathscr{F}\\left\\{ X(t)\\right\\} =\\int_{-\\infty}^{+\\infty}X(t)e^{-2\\pi ift}dt=\\tilde{X}\\left(f\\right)$$ \n",
    "\n",
    "$$\n",
    "\\mathscr{F}\\left\\{ X(t)\\right\\} =\\int_{-\\infty}^{+\\infty}X(t)e^{-i\\omega t}dt=\\tilde{X}\\left(\\omega\\right)\n",
    "$$\n",
    "\n",
    "$$\n",
    "\\mathscr{F}^{-1}\\left\\{ \\tilde{X}\\left(f\\right)\\right\\} =\\int_{-\\infty}^{+\\infty}\\tilde{X}\\left(f\\right)e^{2\\pi ift}df=X\\left(t\\right)\n",
    "$$\n",
    "\n",
    "$$\n",
    "\\mathscr{F}^{-1}\\left\\{ \\tilde{X}\\left(\\omega\\right)\\right\\} =\\frac{1}{2\\pi}\\int_{-\\infty}^{+\\infty}\\tilde{X}\\left(\\omega\\right)e^{i\\omega t}d\\omega=X\\left(t\\right)\n",
    "$$\n",
    "\n",
    "* Unless otherwise noted, we will use $X$ to denote time-domain functions\n",
    "$X(t)$ and $\\tilde{X}$ to denote frequency-domain functions, $\\tilde{X}\\left(f\\right)$ or $\\tilde{X}\\left(\\omega\\right)$. We will use the following notation to denote two quantities related through a Fourier/Inverse Fourier transformation:\n",
    "\n",
    "$$\n",
    "X(t)\\overset{\\mathscr{F}}{\\longleftrightarrow}\\tilde{X}(f)\n",
    "$$\n",
    "\n",
    "* **Nyquist frequency:** for discrete time-series evaluated at\n",
    "discrete time points $t_{i}$ separated by a time step $\\Delta t=t_{i+1}-t_{i}$,\n",
    "the Fourier Transform can only be evaluated at frequencies up to the\n",
    "sampling frequency, also called the Nyquist frequency \n",
    "\n",
    "$$\n",
    "f_{N}=\\frac{1}{2\\Delta t}.\n",
    "$$\n",
    "\n",
    "It is not possible to estimate energy at frequencies higher than the\n",
    "Nyquist frequency without more finely resolved data. "
   ]
  },
  {
   "cell_type": "markdown",
   "id": "1abc162d-3dce-4a84-8bbc-64e975cb96c7",
   "metadata": {
    "editable": true,
    "slideshow": {
     "slide_type": ""
    },
    "tags": []
   },
   "source": [
    "## Definitions: Spectral Density \\& Covariance\n",
    "\n",
    "Wikipedia has some good resources on [spectral density](https://en.wikipedia.org/wiki/Spectral_density).\n",
    "\n",
    "* The **cross power spectral density** of two variables is:\n",
    "\n",
    "$$\n",
    "S_{XY}\\left(\\omega\\right)=\\left\\langle \\tilde{X}\\left(\\omega\\right)\\tilde{Y}^{*}\\left(\\omega\\right)\\right\\rangle =\\lim_{T\\rightarrow\\infty}\\frac{1}{T}E\\left[\\tilde{X}\\left(\\omega\\right)\\tilde{Y}^{*}\\left(\\omega\\right)\\right]\n",
    "$$\n",
    "\n",
    "* $T$ is the total length of the signal and $*$ denotes a complex\n",
    "conjugate. In practice, we won't have to deal with the limit or the\n",
    "expectation, as everything will eventually be written in terms of\n",
    "the power spectral density $S_{\\eta\\eta}\\left(\\omega\\right)=\\left\\langle \\tilde{\\eta}\\left(\\omega\\right)\\tilde{\\eta}^{*}\\left(\\omega\\right)\\right\\rangle $ of some noise forcing $\\eta(t)$. The only two things we will to compute spectral densities are the fact that the bracket operator $\\left\\langle \\cdot\\right\\rangle $ is linear, and care in scaling the power spectral density of the noise.\n",
    "\n",
    "* The spectral density described above is what we will call the **process**\n",
    "spectral density. You can think of it as the *true* spectral density of the underlying process that generated the data. When working with real data, we will\n",
    "only have access to finite samples of the processes $X(t)$  and  $Y(t)$, defined over a finite interval $T$. Thus, all we can do is get an *estimate* of the spectrum, which we will call the **sample** spectrum. For now we won't worry about how to compute these estimates, and just use a library that estiamtes these quantities for us. \n",
    "\n",
    "* The **power spectral density (PSD}**, or the auto-spectrum of\n",
    "a stochastic process $X$ is: \n",
    "\n",
    "$$\n",
    "P_{X}\\left(f\\right)=S_{XX}\\left(f\\right)=\\left\\langle \\tilde{X}\\left(f\\right)\\tilde{X}^{*}\\left(f\\right)\\right\\rangle =\\lim_{T\\rightarrow\\infty}\\frac{1}{T}E\\left[\\tilde{X}\\left(f\\right)\\tilde{Y}^{*}\\left(f\\right)\\right]\n",
    "$$\n",
    "\n",
    "* The **cross-covariance** function. At least for now, we will\n",
    "be dealing with anomalies from a mean, so we can assume $E(X(t))=E(Y(t))=0$.\n",
    "If ths is the case, the cross-covariance becomes equal to the cross-correlation\n",
    "function, defined as:\n",
    "\n",
    "$$\n",
    "C_{XY}(\\tau)=\\text{Cov}\\left(X(t),Y(t+\\tau)\\right)=E\\left[X(t)Y(t+\\tau)\\right]=\\lim_{T\\rightarrow\\infty}\\frac{1}{T}\\int_{-\\infty}^{\\infty}X(t)Y(t+\\tau)dt\n",
    "$$\n",
    "\n",
    "* A **white noise:** process is an uncorrelated process, i.e. the\n",
    "covariance is only non-zero at zero lag. If $\\delta_{\\tau}$ is a\n",
    "delta-function centered on zero, then:\n",
    "\n",
    "$$\n",
    "C_{\\eta\\eta}\\left(\\tau\\right)=E\\left[\\eta(t)\\eta(t+\\tau)\\right]=\\delta_{\\tau}\\sigma^{2}\n",
    "$$\n"
   ]
  },
  {
   "cell_type": "markdown",
   "id": "5856163b-6b85-46a1-9bf2-ba5612eb7bd5",
   "metadata": {
    "editable": true,
    "slideshow": {
     "slide_type": ""
    },
    "tags": []
   },
   "source": [
    "## Useful Properties and Theorems\n",
    "\n",
    "In practice, our derivations will make use of the following properties of the Fourier Transform, spectral density, and covariance functions: \n",
    "\n",
    "* Fourier Transform of a time-derivative\n",
    "\n",
    "$$\n",
    "\\boxed{\\mathscr{F}\\left\\{ \\frac{dX(t)}{dt}\\right\\} =i\\omega\\tilde{X}(\\omega)}\n",
    "$$\n",
    "\n",
    "* Linearity of cross spectral density:\n",
    "\n",
    "$$\n",
    "\\boxed{\\left\\langle a\\left(\\tilde{X}(\\omega)+\\tilde{Y}(\\omega)\\right)\\tilde{Z}^*(\\omega)\\right\\rangle =a\\left\\langle \\tilde{X}(\\omega)\\tilde{Z}^*(\\omega)\\right\\rangle +a\\left\\langle \\tilde{Y}(\\omega)\\tilde{Z}^*(\\omega)\\right\\rangle }\n",
    "$$\n",
    "\n",
    "* Expected power spectrum of a white noise process is a constant. In fact, this could be an alternative definition of ``white noise'', with the $\\delta$-function correlaton being a consequence. If $\\eta(t)$ is a white-noise process:\n",
    "\n",
    "$$\n",
    "\\boxed{S_{\\eta\\eta}\\left(\\omega\\right)=\\left\\langle \\tilde{\\eta}(\\omega)\\cdot\\tilde{\\eta}^{*}(\\omega)\\right\\rangle =\\tilde{s}_{\\eta}^{2}}\n",
    "$$\n",
    "\n",
    "* Expected cross-spectrum of two independent processes is zero\n",
    "\n",
    "$$\n",
    "\\boxed{S_{XY}\\left(\\omega\\right)=\\left\\langle \\tilde{X}(\\omega)\\cdot\\tilde{Y}(\\omega)\\right\\rangle =0}\n",
    "$$\n",
    "\n",
    "* **Wiener-Khinchin theorem** links lagged-covariance with cross-spectrum:\n",
    "\n",
    "$$\n",
    "\\boxed{C_{XY}(\\tau)\\overset{\\mathscr{F}}{\\longleftrightarrow}S_{XY}(\\omega)}\n",
    "$$\n",
    "\n",
    "* **Parseval's Theorem** is equivalent to the Wiener-Khinchin theorem\n",
    "at $\\tau=0$, where $C_{XX}\\left(0\\right)=\\text{var}\\left(X\\right)$. Still,\n",
    "it is important enough that it is worth discussing it on its own:\n",
    "\n",
    "$$\n",
    "\\boxed{\\sigma_{X}^{2}=\\text{var}(X)=\\int_{-\\infty}^{\\infty}S_{XX}\\left(f\\right)df}\n",
    "$$\n"
   ]
  },
  {
   "cell_type": "code",
   "execution_count": null,
   "id": "8d77b2f3-b935-49d3-bb3e-d6ddf002718d",
   "metadata": {
    "editable": true,
    "slideshow": {
     "slide_type": ""
    },
    "tags": []
   },
   "outputs": [],
   "source": []
  }
 ],
 "metadata": {
  "kernelspec": {
   "display_name": "Python 3 (ipykernel)",
   "language": "python",
   "name": "python3"
  },
  "language_info": {
   "codemirror_mode": {
    "name": "ipython",
    "version": 3
   },
   "file_extension": ".py",
   "mimetype": "text/x-python",
   "name": "python",
   "nbconvert_exporter": "python",
   "pygments_lexer": "ipython3",
   "version": "3.12.1"
  }
 },
 "nbformat": 4,
 "nbformat_minor": 5
}
